{
 "cells": [
  {
   "cell_type": "markdown",
   "metadata": {},
   "source": [
    "# Introduction to Linear Regression"
   ]
  },
  {
   "cell_type": "markdown",
   "metadata": {},
   "source": [
    "Regression is the process of predicting a continuous value.\n",
    "\n",
    "X: Independent Variable\n",
    "Y: Dependent Variable\n",
    "\n",
    "For Ex.\n",
    "\n",
    "| | Engine Size |Cylinders|CO2 Emission|\n",
    "|-|-------------|---------|------------|\n",
    "|0|240|4|230\n",
    "|1|360|8|400\n",
    "|2|200|2|120\n",
    "|3|230|4|X?\n",
    "\n",
    "so on.\n",
    "\n",
    "In this table:\n",
    "* __Engine Size__ and __Cylinders__ are X => Independent Variable\n",
    "* __CO2 Emission__ is Y => Dependent Tariable\n",
    "\n",
    "\n",
    "1. __Simple Regression:__ CO2 vs Engine Size\n",
    " * Linear\n",
    " * Non-Linear\n",
    " \n",
    "2. __Multiple Regression:__ CO2 vs. Engine Size, Cylinders\n",
    " * Linear\n",
    " * Non-Linear\n",
    "\n",
    "\n"
   ]
  },
  {
   "cell_type": "markdown",
   "metadata": {},
   "source": [
    "## Application of Regression\n",
    "\n",
    "1. Sales Forecasting\n",
    "2. Satisfaction Analysis\n",
    "3. Price Estimation\n",
    "\n",
    "## Regression Algorithms\n",
    "\n",
    "Each algorithm should be use each applicable purposes.\n",
    "\n",
    "1. Ordinal Regression\n",
    "2. Poisson Regression\n",
    "3. Fast Forest Quantile R.\n",
    "4. Linear, Polynomial, Lasso, Stepwise, Ridge R.\n",
    "5. Bayesian Linear R.\n",
    "6. Neural Network R.\n",
    "7. Decision Forest R.\n",
    "8. Boosted decision Tree R.\n",
    "9. KNN\n",
    "\n"
   ]
  },
  {
   "cell_type": "markdown",
   "metadata": {},
   "source": [
    "# Simple Linear Regression\n",
    "\n"
   ]
  },
  {
   "cell_type": "code",
   "execution_count": 1,
   "metadata": {},
   "outputs": [],
   "source": [
    "file = r'FuelConsumption.csv'\n"
   ]
  },
  {
   "cell_type": "code",
   "execution_count": 2,
   "metadata": {},
   "outputs": [],
   "source": [
    "import pandas as pd"
   ]
  },
  {
   "cell_type": "code",
   "execution_count": 3,
   "metadata": {
    "scrolled": true
   },
   "outputs": [
    {
     "data": {
      "text/html": [
       "<div>\n",
       "<style scoped>\n",
       "    .dataframe tbody tr th:only-of-type {\n",
       "        vertical-align: middle;\n",
       "    }\n",
       "\n",
       "    .dataframe tbody tr th {\n",
       "        vertical-align: top;\n",
       "    }\n",
       "\n",
       "    .dataframe thead th {\n",
       "        text-align: right;\n",
       "    }\n",
       "</style>\n",
       "<table border=\"1\" class=\"dataframe\">\n",
       "  <thead>\n",
       "    <tr style=\"text-align: right;\">\n",
       "      <th></th>\n",
       "      <th>MODELYEAR</th>\n",
       "      <th>MAKE</th>\n",
       "      <th>MODEL</th>\n",
       "      <th>VEHICLECLASS</th>\n",
       "      <th>ENGINESIZE</th>\n",
       "      <th>CYLINDERS</th>\n",
       "      <th>TRANSMISSION</th>\n",
       "      <th>FUELTYPE</th>\n",
       "      <th>FUELCONSUMPTION_CITY</th>\n",
       "      <th>FUELCONSUMPTION_HWY</th>\n",
       "      <th>FUELCONSUMPTION_COMB</th>\n",
       "      <th>FUELCONSUMPTION_COMB_MPG</th>\n",
       "      <th>CO2EMISSIONS</th>\n",
       "    </tr>\n",
       "  </thead>\n",
       "  <tbody>\n",
       "    <tr>\n",
       "      <th>0</th>\n",
       "      <td>2014</td>\n",
       "      <td>ACURA</td>\n",
       "      <td>ILX</td>\n",
       "      <td>COMPACT</td>\n",
       "      <td>2.0</td>\n",
       "      <td>4</td>\n",
       "      <td>AS5</td>\n",
       "      <td>Z</td>\n",
       "      <td>9.9</td>\n",
       "      <td>6.7</td>\n",
       "      <td>8.5</td>\n",
       "      <td>33</td>\n",
       "      <td>196</td>\n",
       "    </tr>\n",
       "    <tr>\n",
       "      <th>1</th>\n",
       "      <td>2014</td>\n",
       "      <td>ACURA</td>\n",
       "      <td>ILX</td>\n",
       "      <td>COMPACT</td>\n",
       "      <td>2.4</td>\n",
       "      <td>4</td>\n",
       "      <td>M6</td>\n",
       "      <td>Z</td>\n",
       "      <td>11.2</td>\n",
       "      <td>7.7</td>\n",
       "      <td>9.6</td>\n",
       "      <td>29</td>\n",
       "      <td>221</td>\n",
       "    </tr>\n",
       "    <tr>\n",
       "      <th>2</th>\n",
       "      <td>2014</td>\n",
       "      <td>ACURA</td>\n",
       "      <td>ILX HYBRID</td>\n",
       "      <td>COMPACT</td>\n",
       "      <td>1.5</td>\n",
       "      <td>4</td>\n",
       "      <td>AV7</td>\n",
       "      <td>Z</td>\n",
       "      <td>6.0</td>\n",
       "      <td>5.8</td>\n",
       "      <td>5.9</td>\n",
       "      <td>48</td>\n",
       "      <td>136</td>\n",
       "    </tr>\n",
       "    <tr>\n",
       "      <th>3</th>\n",
       "      <td>2014</td>\n",
       "      <td>ACURA</td>\n",
       "      <td>MDX 4WD</td>\n",
       "      <td>SUV - SMALL</td>\n",
       "      <td>3.5</td>\n",
       "      <td>6</td>\n",
       "      <td>AS6</td>\n",
       "      <td>Z</td>\n",
       "      <td>12.7</td>\n",
       "      <td>9.1</td>\n",
       "      <td>11.1</td>\n",
       "      <td>25</td>\n",
       "      <td>255</td>\n",
       "    </tr>\n",
       "    <tr>\n",
       "      <th>4</th>\n",
       "      <td>2014</td>\n",
       "      <td>ACURA</td>\n",
       "      <td>RDX AWD</td>\n",
       "      <td>SUV - SMALL</td>\n",
       "      <td>3.5</td>\n",
       "      <td>6</td>\n",
       "      <td>AS6</td>\n",
       "      <td>Z</td>\n",
       "      <td>12.1</td>\n",
       "      <td>8.7</td>\n",
       "      <td>10.6</td>\n",
       "      <td>27</td>\n",
       "      <td>244</td>\n",
       "    </tr>\n",
       "  </tbody>\n",
       "</table>\n",
       "</div>"
      ],
      "text/plain": [
       "   MODELYEAR   MAKE       MODEL VEHICLECLASS  ENGINESIZE  CYLINDERS  \\\n",
       "0       2014  ACURA         ILX      COMPACT         2.0          4   \n",
       "1       2014  ACURA         ILX      COMPACT         2.4          4   \n",
       "2       2014  ACURA  ILX HYBRID      COMPACT         1.5          4   \n",
       "3       2014  ACURA     MDX 4WD  SUV - SMALL         3.5          6   \n",
       "4       2014  ACURA     RDX AWD  SUV - SMALL         3.5          6   \n",
       "\n",
       "  TRANSMISSION FUELTYPE  FUELCONSUMPTION_CITY  FUELCONSUMPTION_HWY  \\\n",
       "0          AS5        Z                   9.9                  6.7   \n",
       "1           M6        Z                  11.2                  7.7   \n",
       "2          AV7        Z                   6.0                  5.8   \n",
       "3          AS6        Z                  12.7                  9.1   \n",
       "4          AS6        Z                  12.1                  8.7   \n",
       "\n",
       "   FUELCONSUMPTION_COMB  FUELCONSUMPTION_COMB_MPG  CO2EMISSIONS  \n",
       "0                   8.5                        33           196  \n",
       "1                   9.6                        29           221  \n",
       "2                   5.9                        48           136  \n",
       "3                  11.1                        25           255  \n",
       "4                  10.6                        27           244  "
      ]
     },
     "execution_count": 3,
     "metadata": {},
     "output_type": "execute_result"
    }
   ],
   "source": [
    "df_fc = pd.read_csv(file)\n",
    "df_fc.head()"
   ]
  },
  {
   "cell_type": "markdown",
   "metadata": {},
   "source": [
    "We can see our Data above. Real question is can we predict CO2 emissino of a car with using Engine Size. Yes we can. In simple linear regression there are two variables:\n",
    "* Dependent Variable\n",
    "* Independent Variable\n",
    "\n",
    "Key point is dependent variable should be discrete and continuous."
   ]
  },
  {
   "cell_type": "markdown",
   "metadata": {},
   "source": [
    "## Linear Regression Topology\n",
    "\n",
    "### Simple Linear Regression:\n",
    "\n",
    "Predict CO2EMISSION vs. ENGINESIZE : Dependent Variable (y) CO2EMISSIONS, Independent Variable (x) ENGINESIZE\n",
    "\n",
    "### Mıltiple Linear Regression\n",
    "\n",
    "Predict CO2EMISSION vs. ENGINESIZE and CYLINDERS: Dependent Variable (y) CO2EMISSIONS, Independent Variable (x) ENGINESIZE, CYLINDERS etc."
   ]
  },
  {
   "cell_type": "markdown",
   "metadata": {},
   "source": [
    "## How does Linear Regression Work ?"
   ]
  },
  {
   "cell_type": "markdown",
   "metadata": {},
   "source": [
    "We can see the relationship between __ENGINESIZE__ and __CO2EMISSION__ at the scatter plot below."
   ]
  },
  {
   "cell_type": "code",
   "execution_count": 4,
   "metadata": {},
   "outputs": [],
   "source": [
    "%matplotlib inline\n",
    "import matplotlib as mpl\n",
    "import matplotlib.pyplot as plt\n",
    "import seaborn as sns"
   ]
  },
  {
   "cell_type": "code",
   "execution_count": 5,
   "metadata": {},
   "outputs": [
    {
     "data": {
      "text/html": [
       "<div>\n",
       "<style scoped>\n",
       "    .dataframe tbody tr th:only-of-type {\n",
       "        vertical-align: middle;\n",
       "    }\n",
       "\n",
       "    .dataframe tbody tr th {\n",
       "        vertical-align: top;\n",
       "    }\n",
       "\n",
       "    .dataframe thead th {\n",
       "        text-align: right;\n",
       "    }\n",
       "</style>\n",
       "<table border=\"1\" class=\"dataframe\">\n",
       "  <thead>\n",
       "    <tr style=\"text-align: right;\">\n",
       "      <th></th>\n",
       "      <th>MODELYEAR</th>\n",
       "      <th>MAKE</th>\n",
       "      <th>MODEL</th>\n",
       "      <th>VEHICLECLASS</th>\n",
       "      <th>ENGINESIZE</th>\n",
       "      <th>CYLINDERS</th>\n",
       "      <th>TRANSMISSION</th>\n",
       "      <th>FUELTYPE</th>\n",
       "      <th>FUELCONSUMPTION_CITY</th>\n",
       "      <th>FUELCONSUMPTION_HWY</th>\n",
       "      <th>FUELCONSUMPTION_COMB</th>\n",
       "      <th>FUELCONSUMPTION_COMB_MPG</th>\n",
       "      <th>CO2EMISSIONS</th>\n",
       "    </tr>\n",
       "  </thead>\n",
       "  <tbody>\n",
       "    <tr>\n",
       "      <th>0</th>\n",
       "      <td>2014</td>\n",
       "      <td>ACURA</td>\n",
       "      <td>ILX</td>\n",
       "      <td>COMPACT</td>\n",
       "      <td>2.0</td>\n",
       "      <td>4</td>\n",
       "      <td>AS5</td>\n",
       "      <td>Z</td>\n",
       "      <td>9.9</td>\n",
       "      <td>6.7</td>\n",
       "      <td>8.5</td>\n",
       "      <td>33</td>\n",
       "      <td>196</td>\n",
       "    </tr>\n",
       "    <tr>\n",
       "      <th>1</th>\n",
       "      <td>2014</td>\n",
       "      <td>ACURA</td>\n",
       "      <td>ILX</td>\n",
       "      <td>COMPACT</td>\n",
       "      <td>2.4</td>\n",
       "      <td>4</td>\n",
       "      <td>M6</td>\n",
       "      <td>Z</td>\n",
       "      <td>11.2</td>\n",
       "      <td>7.7</td>\n",
       "      <td>9.6</td>\n",
       "      <td>29</td>\n",
       "      <td>221</td>\n",
       "    </tr>\n",
       "    <tr>\n",
       "      <th>2</th>\n",
       "      <td>2014</td>\n",
       "      <td>ACURA</td>\n",
       "      <td>ILX HYBRID</td>\n",
       "      <td>COMPACT</td>\n",
       "      <td>1.5</td>\n",
       "      <td>4</td>\n",
       "      <td>AV7</td>\n",
       "      <td>Z</td>\n",
       "      <td>6.0</td>\n",
       "      <td>5.8</td>\n",
       "      <td>5.9</td>\n",
       "      <td>48</td>\n",
       "      <td>136</td>\n",
       "    </tr>\n",
       "    <tr>\n",
       "      <th>3</th>\n",
       "      <td>2014</td>\n",
       "      <td>ACURA</td>\n",
       "      <td>MDX 4WD</td>\n",
       "      <td>SUV - SMALL</td>\n",
       "      <td>3.5</td>\n",
       "      <td>6</td>\n",
       "      <td>AS6</td>\n",
       "      <td>Z</td>\n",
       "      <td>12.7</td>\n",
       "      <td>9.1</td>\n",
       "      <td>11.1</td>\n",
       "      <td>25</td>\n",
       "      <td>255</td>\n",
       "    </tr>\n",
       "    <tr>\n",
       "      <th>4</th>\n",
       "      <td>2014</td>\n",
       "      <td>ACURA</td>\n",
       "      <td>RDX AWD</td>\n",
       "      <td>SUV - SMALL</td>\n",
       "      <td>3.5</td>\n",
       "      <td>6</td>\n",
       "      <td>AS6</td>\n",
       "      <td>Z</td>\n",
       "      <td>12.1</td>\n",
       "      <td>8.7</td>\n",
       "      <td>10.6</td>\n",
       "      <td>27</td>\n",
       "      <td>244</td>\n",
       "    </tr>\n",
       "  </tbody>\n",
       "</table>\n",
       "</div>"
      ],
      "text/plain": [
       "   MODELYEAR   MAKE       MODEL VEHICLECLASS  ENGINESIZE  CYLINDERS  \\\n",
       "0       2014  ACURA         ILX      COMPACT         2.0          4   \n",
       "1       2014  ACURA         ILX      COMPACT         2.4          4   \n",
       "2       2014  ACURA  ILX HYBRID      COMPACT         1.5          4   \n",
       "3       2014  ACURA     MDX 4WD  SUV - SMALL         3.5          6   \n",
       "4       2014  ACURA     RDX AWD  SUV - SMALL         3.5          6   \n",
       "\n",
       "  TRANSMISSION FUELTYPE  FUELCONSUMPTION_CITY  FUELCONSUMPTION_HWY  \\\n",
       "0          AS5        Z                   9.9                  6.7   \n",
       "1           M6        Z                  11.2                  7.7   \n",
       "2          AV7        Z                   6.0                  5.8   \n",
       "3          AS6        Z                  12.7                  9.1   \n",
       "4          AS6        Z                  12.1                  8.7   \n",
       "\n",
       "   FUELCONSUMPTION_COMB  FUELCONSUMPTION_COMB_MPG  CO2EMISSIONS  \n",
       "0                   8.5                        33           196  \n",
       "1                   9.6                        29           221  \n",
       "2                   5.9                        48           136  \n",
       "3                  11.1                        25           255  \n",
       "4                  10.6                        27           244  "
      ]
     },
     "execution_count": 5,
     "metadata": {},
     "output_type": "execute_result"
    }
   ],
   "source": [
    "df_fc.head()"
   ]
  },
  {
   "cell_type": "code",
   "execution_count": 6,
   "metadata": {},
   "outputs": [
    {
     "data": {
<<<<<<< HEAD
      "image/png": "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\n",
=======
      "image/png": "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\n",
>>>>>>> 5a79362a986435acc70ff57f39f6dd37d695cef9
      "text/plain": [
       "<Figure size 432x288 with 1 Axes>"
      ]
     },
     "metadata": {
      "needs_background": "light"
     },
     "output_type": "display_data"
    }
   ],
   "source": [
    "sns.regplot(x='ENGINESIZE', y='CO2EMISSIONS', data=df_fc)\n",
    "plt.show()"
   ]
  },
  {
   "cell_type": "markdown",
   "metadata": {},
   "source": [
    "As you can see on the graph, Enginesize and CO2 Emissions has positive Relationship between them. Fitting line define a model for these variables.For dependent and independent variable fitting line linear equation is:\n",
    "\n",
    "$ \\hat y = \\theta_0 + \\theta_1 x_1 $ : $ \\hat y $ is response variable, $x_1$ is a single predictor, a commonly know $\\theta_0$ and $ \\theta_1$ is adjustable parameters, $\\theta_0$ is intercept and $\\theta_1$ is slope of the fitting line. $\\theta_0$ and $ \\theta_1$ is also called the coefficients of the linear equation.\n"
   ]
  },
  {
   "cell_type": "markdown",
   "metadata": {},
   "source": [
    "The regression line should be best fit and we should know the $\\theta_0$ and $ \\theta_1$ for determining the regression model for predict $\\hat y$. "
   ]
  },
  {
   "cell_type": "markdown",
   "metadata": {},
   "source": [
    "For finding best fit line we should observe the each error and minimize the mean square error, if $y$ is the real value and $\\hat y$ is the predicted value. Mean Square Error is:\n",
    "\n",
    "$$MSE = \\frac{1}{n} \\sum_{i=1}^{n} (y_i - \\hat y_i)^2  $$"
   ]
  },
  {
   "cell_type": "markdown",
   "metadata": {},
   "source": [
    "Pros of Linear Regression\n",
    "* Very fast\n",
    "* No parameter tuning\n",
    "- Easy to understand, and highly interpretable"
   ]
  },
  {
   "cell_type": "markdown",
   "metadata": {},
   "source": [
    "# Model Evaluation in Regression Models"
   ]
  },
  {
   "cell_type": "markdown",
   "metadata": {},
   "source": [
    "### Model Evaluation Approaches\n",
    "* Train and test on the same Dataset\n",
    "* Train/Test Split\n",
    "\n",
    "Regression Evaluation Metrics"
   ]
  },
  {
   "cell_type": "markdown",
   "metadata": {},
   "source": [
    "In the first approach we train our Linear Regression with entire data set, then we chose few datas from dataset and calculate error between Predicted values and actual values.\n",
    "\n",
    "$$ Error = \\frac{1}{n} \\sum_{j=1}^{n} |y_j - \\hat y_j|$$"
   ]
  },
  {
   "cell_type": "markdown",
   "metadata": {},
   "source": [
    "This method has __High Training Accuracy__ and Low __out-of-sample Accuracy__. So What is these terms ?\n",
    "\n",
    "1. __Training Accuracy__: \n",
    " * High training accuracy isn't neccessaryly good thing\n",
    " * Results of over-fitting\n",
    " * __Over-fit__: The Model is overly trained to the dataset, which may capture noise and produce non-generalized model\n",
    "  \n",
    "2. __Out-of-Sample Accuracy__:\n",
    " * It'simportant that our models have high, out-of-sample accuracy\n",
    " - How we can improve out-of- sample accuracy?\n",
    " \n",
    "In that point test/split approaches come in the scene. We select a bunch of data from the dataset and train the model with this data, then we test the trained model with remained data of the data set and observe the predicted values and actual values. This approac is:\n",
    "\n",
    "* Mutuallt Exclusive\n",
    "* More accurare evaluation on out-of-sample accuracy\n",
    "\n",
    "and suitable for real-world applications.\n",
    "\n",
    "But this method is highyly dependent on which datasets the data is trained and tested. In that point we can use __k-fold cross-validation__.\n",
    "\n",
    "__k-fold cross-validation__: Data splitted kth parts and each part splitted, each part train the model and other parts test the data accuracy. Then, we acerage the model accuracy of the each part.\n",
    "\n",
    "### Evaluation Metrics in Regression Models\n",
    " \n",
    "* MAE : Mean Absolute Error\n",
    "* MSE : Mean Square Error\n",
    "* RMSE : Root Mean Square Error\n",
    "\n",
    "__Error__: Measure of ho far data is from the fittet regression line.\n",
    "\n",
    "$$MAE = \\frac{1}{n} \\sum_{i=1}^{n} |y_i - \\hat y_i|  $$\n",
    "\n",
    "$$MSE = \\frac{1}{n} \\sum_{i=1}^{n} (y_i - \\hat y_i)^2  $$\n",
    "\n",
    "$$RMSE = \\sqrt{\\frac{1}{n} \\sum_{i=1}^{n} (y_i - \\hat y_i)^2}  $$\n",
    "\n",
    "\n",
    "$$  RAE = \\frac{ \\sum_{i=1}^{n} |y_i - \\hat y_i| }{ \\sum_{i=1}^{n} |y_i - \\bar y| }$$\n",
    "\n",
    "\n",
    "$$ RSE = \\frac{\\sum_{i=1}^{n} (y_i - \\hat y_i)^2}{\\sum_{i=1}^{n} (y_i - \\bar y)^2}  $$\n",
    "\n",
    "We can find $R^2$ from RSE:\n",
    "\n",
    "$$ R^2 = 1- RSE $$\n",
    "\n",
    "$R^2$ is a metric form how we close the actual data higher $R^2$ is better regression model.\n",
    "\n",
    "\n"
   ]
  },
  {
   "cell_type": "markdown",
   "metadata": {},
   "source": [
    "# Linear Regression LAB Session\n",
    "\n",
    "We can import our required libraries for investigate data."
   ]
  },
  {
   "cell_type": "code",
   "execution_count": 7,
   "metadata": {},
   "outputs": [],
   "source": [
    "import matplotlib.pyplot as plt\n",
    "import pandas as pd\n",
    "import pylab as pl\n",
    "import numpy as np\n",
    "%matplotlib inline"
   ]
  },
  {
   "cell_type": "code",
   "execution_count": 8,
   "metadata": {},
   "outputs": [],
   "source": [
    "datafile = r'FuelConsumption.csv'"
   ]
  },
  {
   "cell_type": "code",
   "execution_count": 9,
   "metadata": {},
   "outputs": [
    {
     "data": {
      "text/html": [
       "<div>\n",
       "<style scoped>\n",
       "    .dataframe tbody tr th:only-of-type {\n",
       "        vertical-align: middle;\n",
       "    }\n",
       "\n",
       "    .dataframe tbody tr th {\n",
       "        vertical-align: top;\n",
       "    }\n",
       "\n",
       "    .dataframe thead th {\n",
       "        text-align: right;\n",
       "    }\n",
       "</style>\n",
       "<table border=\"1\" class=\"dataframe\">\n",
       "  <thead>\n",
       "    <tr style=\"text-align: right;\">\n",
       "      <th></th>\n",
       "      <th>MODELYEAR</th>\n",
       "      <th>MAKE</th>\n",
       "      <th>MODEL</th>\n",
       "      <th>VEHICLECLASS</th>\n",
       "      <th>ENGINESIZE</th>\n",
       "      <th>CYLINDERS</th>\n",
       "      <th>TRANSMISSION</th>\n",
       "      <th>FUELTYPE</th>\n",
       "      <th>FUELCONSUMPTION_CITY</th>\n",
       "      <th>FUELCONSUMPTION_HWY</th>\n",
       "      <th>FUELCONSUMPTION_COMB</th>\n",
       "      <th>FUELCONSUMPTION_COMB_MPG</th>\n",
       "      <th>CO2EMISSIONS</th>\n",
       "    </tr>\n",
       "  </thead>\n",
       "  <tbody>\n",
       "    <tr>\n",
       "      <th>0</th>\n",
       "      <td>2014</td>\n",
       "      <td>ACURA</td>\n",
       "      <td>ILX</td>\n",
       "      <td>COMPACT</td>\n",
       "      <td>2.0</td>\n",
       "      <td>4</td>\n",
       "      <td>AS5</td>\n",
       "      <td>Z</td>\n",
       "      <td>9.9</td>\n",
       "      <td>6.7</td>\n",
       "      <td>8.5</td>\n",
       "      <td>33</td>\n",
       "      <td>196</td>\n",
       "    </tr>\n",
       "    <tr>\n",
       "      <th>1</th>\n",
       "      <td>2014</td>\n",
       "      <td>ACURA</td>\n",
       "      <td>ILX</td>\n",
       "      <td>COMPACT</td>\n",
       "      <td>2.4</td>\n",
       "      <td>4</td>\n",
       "      <td>M6</td>\n",
       "      <td>Z</td>\n",
       "      <td>11.2</td>\n",
       "      <td>7.7</td>\n",
       "      <td>9.6</td>\n",
       "      <td>29</td>\n",
       "      <td>221</td>\n",
       "    </tr>\n",
       "    <tr>\n",
       "      <th>2</th>\n",
       "      <td>2014</td>\n",
       "      <td>ACURA</td>\n",
       "      <td>ILX HYBRID</td>\n",
       "      <td>COMPACT</td>\n",
       "      <td>1.5</td>\n",
       "      <td>4</td>\n",
       "      <td>AV7</td>\n",
       "      <td>Z</td>\n",
       "      <td>6.0</td>\n",
       "      <td>5.8</td>\n",
       "      <td>5.9</td>\n",
       "      <td>48</td>\n",
       "      <td>136</td>\n",
       "    </tr>\n",
       "    <tr>\n",
       "      <th>3</th>\n",
       "      <td>2014</td>\n",
       "      <td>ACURA</td>\n",
       "      <td>MDX 4WD</td>\n",
       "      <td>SUV - SMALL</td>\n",
       "      <td>3.5</td>\n",
       "      <td>6</td>\n",
       "      <td>AS6</td>\n",
       "      <td>Z</td>\n",
       "      <td>12.7</td>\n",
       "      <td>9.1</td>\n",
       "      <td>11.1</td>\n",
       "      <td>25</td>\n",
       "      <td>255</td>\n",
       "    </tr>\n",
       "    <tr>\n",
       "      <th>4</th>\n",
       "      <td>2014</td>\n",
       "      <td>ACURA</td>\n",
       "      <td>RDX AWD</td>\n",
       "      <td>SUV - SMALL</td>\n",
       "      <td>3.5</td>\n",
       "      <td>6</td>\n",
       "      <td>AS6</td>\n",
       "      <td>Z</td>\n",
       "      <td>12.1</td>\n",
       "      <td>8.7</td>\n",
       "      <td>10.6</td>\n",
       "      <td>27</td>\n",
       "      <td>244</td>\n",
       "    </tr>\n",
       "  </tbody>\n",
       "</table>\n",
       "</div>"
      ],
      "text/plain": [
       "   MODELYEAR   MAKE       MODEL VEHICLECLASS  ENGINESIZE  CYLINDERS  \\\n",
       "0       2014  ACURA         ILX      COMPACT         2.0          4   \n",
       "1       2014  ACURA         ILX      COMPACT         2.4          4   \n",
       "2       2014  ACURA  ILX HYBRID      COMPACT         1.5          4   \n",
       "3       2014  ACURA     MDX 4WD  SUV - SMALL         3.5          6   \n",
       "4       2014  ACURA     RDX AWD  SUV - SMALL         3.5          6   \n",
       "\n",
       "  TRANSMISSION FUELTYPE  FUELCONSUMPTION_CITY  FUELCONSUMPTION_HWY  \\\n",
       "0          AS5        Z                   9.9                  6.7   \n",
       "1           M6        Z                  11.2                  7.7   \n",
       "2          AV7        Z                   6.0                  5.8   \n",
       "3          AS6        Z                  12.7                  9.1   \n",
       "4          AS6        Z                  12.1                  8.7   \n",
       "\n",
       "   FUELCONSUMPTION_COMB  FUELCONSUMPTION_COMB_MPG  CO2EMISSIONS  \n",
       "0                   8.5                        33           196  \n",
       "1                   9.6                        29           221  \n",
       "2                   5.9                        48           136  \n",
       "3                  11.1                        25           255  \n",
       "4                  10.6                        27           244  "
      ]
     },
     "execution_count": 9,
     "metadata": {},
     "output_type": "execute_result"
    }
   ],
   "source": [
    "df = pd.read_csv(datafile)\n",
    "df.head()"
   ]
  },
  {
   "cell_type": "markdown",
   "metadata": {},
   "source": [
    "Lets explore the data.\n"
   ]
  },
  {
   "cell_type": "code",
   "execution_count": 10,
   "metadata": {},
   "outputs": [
    {
     "data": {
      "text/html": [
       "<div>\n",
       "<style scoped>\n",
       "    .dataframe tbody tr th:only-of-type {\n",
       "        vertical-align: middle;\n",
       "    }\n",
       "\n",
       "    .dataframe tbody tr th {\n",
       "        vertical-align: top;\n",
       "    }\n",
       "\n",
       "    .dataframe thead th {\n",
       "        text-align: right;\n",
       "    }\n",
       "</style>\n",
       "<table border=\"1\" class=\"dataframe\">\n",
       "  <thead>\n",
       "    <tr style=\"text-align: right;\">\n",
       "      <th></th>\n",
       "      <th>MODELYEAR</th>\n",
       "      <th>ENGINESIZE</th>\n",
       "      <th>CYLINDERS</th>\n",
       "      <th>FUELCONSUMPTION_CITY</th>\n",
       "      <th>FUELCONSUMPTION_HWY</th>\n",
       "      <th>FUELCONSUMPTION_COMB</th>\n",
       "      <th>FUELCONSUMPTION_COMB_MPG</th>\n",
       "      <th>CO2EMISSIONS</th>\n",
       "    </tr>\n",
       "  </thead>\n",
       "  <tbody>\n",
       "    <tr>\n",
       "      <th>count</th>\n",
       "      <td>1067.0</td>\n",
       "      <td>1067.000000</td>\n",
       "      <td>1067.000000</td>\n",
       "      <td>1067.000000</td>\n",
       "      <td>1067.000000</td>\n",
       "      <td>1067.000000</td>\n",
       "      <td>1067.000000</td>\n",
       "      <td>1067.000000</td>\n",
       "    </tr>\n",
       "    <tr>\n",
       "      <th>mean</th>\n",
       "      <td>2014.0</td>\n",
       "      <td>3.346298</td>\n",
       "      <td>5.794752</td>\n",
       "      <td>13.296532</td>\n",
       "      <td>9.474602</td>\n",
       "      <td>11.580881</td>\n",
       "      <td>26.441425</td>\n",
       "      <td>256.228679</td>\n",
       "    </tr>\n",
       "    <tr>\n",
       "      <th>std</th>\n",
       "      <td>0.0</td>\n",
       "      <td>1.415895</td>\n",
       "      <td>1.797447</td>\n",
       "      <td>4.101253</td>\n",
       "      <td>2.794510</td>\n",
       "      <td>3.485595</td>\n",
       "      <td>7.468702</td>\n",
       "      <td>63.372304</td>\n",
       "    </tr>\n",
       "    <tr>\n",
       "      <th>min</th>\n",
       "      <td>2014.0</td>\n",
       "      <td>1.000000</td>\n",
       "      <td>3.000000</td>\n",
       "      <td>4.600000</td>\n",
       "      <td>4.900000</td>\n",
       "      <td>4.700000</td>\n",
       "      <td>11.000000</td>\n",
       "      <td>108.000000</td>\n",
       "    </tr>\n",
       "    <tr>\n",
       "      <th>25%</th>\n",
       "      <td>2014.0</td>\n",
       "      <td>2.000000</td>\n",
       "      <td>4.000000</td>\n",
       "      <td>10.250000</td>\n",
       "      <td>7.500000</td>\n",
       "      <td>9.000000</td>\n",
       "      <td>21.000000</td>\n",
       "      <td>207.000000</td>\n",
       "    </tr>\n",
       "    <tr>\n",
       "      <th>50%</th>\n",
       "      <td>2014.0</td>\n",
       "      <td>3.400000</td>\n",
       "      <td>6.000000</td>\n",
       "      <td>12.600000</td>\n",
       "      <td>8.800000</td>\n",
       "      <td>10.900000</td>\n",
       "      <td>26.000000</td>\n",
       "      <td>251.000000</td>\n",
       "    </tr>\n",
       "    <tr>\n",
       "      <th>75%</th>\n",
       "      <td>2014.0</td>\n",
       "      <td>4.300000</td>\n",
       "      <td>8.000000</td>\n",
       "      <td>15.550000</td>\n",
       "      <td>10.850000</td>\n",
       "      <td>13.350000</td>\n",
       "      <td>31.000000</td>\n",
       "      <td>294.000000</td>\n",
       "    </tr>\n",
       "    <tr>\n",
       "      <th>max</th>\n",
       "      <td>2014.0</td>\n",
       "      <td>8.400000</td>\n",
       "      <td>12.000000</td>\n",
       "      <td>30.200000</td>\n",
       "      <td>20.500000</td>\n",
       "      <td>25.800000</td>\n",
       "      <td>60.000000</td>\n",
       "      <td>488.000000</td>\n",
       "    </tr>\n",
       "  </tbody>\n",
       "</table>\n",
       "</div>"
      ],
      "text/plain": [
       "       MODELYEAR   ENGINESIZE    CYLINDERS  FUELCONSUMPTION_CITY  \\\n",
       "count     1067.0  1067.000000  1067.000000           1067.000000   \n",
       "mean      2014.0     3.346298     5.794752             13.296532   \n",
       "std          0.0     1.415895     1.797447              4.101253   \n",
       "min       2014.0     1.000000     3.000000              4.600000   \n",
       "25%       2014.0     2.000000     4.000000             10.250000   \n",
       "50%       2014.0     3.400000     6.000000             12.600000   \n",
       "75%       2014.0     4.300000     8.000000             15.550000   \n",
       "max       2014.0     8.400000    12.000000             30.200000   \n",
       "\n",
       "       FUELCONSUMPTION_HWY  FUELCONSUMPTION_COMB  FUELCONSUMPTION_COMB_MPG  \\\n",
       "count          1067.000000           1067.000000               1067.000000   \n",
       "mean              9.474602             11.580881                 26.441425   \n",
       "std               2.794510              3.485595                  7.468702   \n",
       "min               4.900000              4.700000                 11.000000   \n",
       "25%               7.500000              9.000000                 21.000000   \n",
       "50%               8.800000             10.900000                 26.000000   \n",
       "75%              10.850000             13.350000                 31.000000   \n",
       "max              20.500000             25.800000                 60.000000   \n",
       "\n",
       "       CO2EMISSIONS  \n",
       "count   1067.000000  \n",
       "mean     256.228679  \n",
       "std       63.372304  \n",
       "min      108.000000  \n",
       "25%      207.000000  \n",
       "50%      251.000000  \n",
       "75%      294.000000  \n",
       "max      488.000000  "
      ]
     },
     "execution_count": 10,
     "metadata": {},
     "output_type": "execute_result"
    }
   ],
   "source": [
    "df.describe()"
   ]
  },
  {
   "cell_type": "markdown",
   "metadata": {},
   "source": [
    "We are interested ENGINESIZE, CYLINDERS, FUELCONSUMPTION_COMB and CO2EMISSIONS. LEts create new dataframe from these data."
   ]
  },
  {
   "cell_type": "code",
   "execution_count": 11,
   "metadata": {},
   "outputs": [
    {
     "data": {
      "text/html": [
       "<div>\n",
       "<style scoped>\n",
       "    .dataframe tbody tr th:only-of-type {\n",
       "        vertical-align: middle;\n",
       "    }\n",
       "\n",
       "    .dataframe tbody tr th {\n",
       "        vertical-align: top;\n",
       "    }\n",
       "\n",
       "    .dataframe thead th {\n",
       "        text-align: right;\n",
       "    }\n",
       "</style>\n",
       "<table border=\"1\" class=\"dataframe\">\n",
       "  <thead>\n",
       "    <tr style=\"text-align: right;\">\n",
       "      <th></th>\n",
       "      <th>ENGINESIZE</th>\n",
       "      <th>CYLINDERS</th>\n",
       "      <th>FUELCONSUMPTION_COMB</th>\n",
       "      <th>CO2EMISSIONS</th>\n",
       "    </tr>\n",
       "  </thead>\n",
       "  <tbody>\n",
       "    <tr>\n",
       "      <th>0</th>\n",
       "      <td>2.0</td>\n",
       "      <td>4</td>\n",
       "      <td>8.5</td>\n",
       "      <td>196</td>\n",
       "    </tr>\n",
       "    <tr>\n",
       "      <th>1</th>\n",
       "      <td>2.4</td>\n",
       "      <td>4</td>\n",
       "      <td>9.6</td>\n",
       "      <td>221</td>\n",
       "    </tr>\n",
       "    <tr>\n",
       "      <th>2</th>\n",
       "      <td>1.5</td>\n",
       "      <td>4</td>\n",
       "      <td>5.9</td>\n",
       "      <td>136</td>\n",
       "    </tr>\n",
       "    <tr>\n",
       "      <th>3</th>\n",
       "      <td>3.5</td>\n",
       "      <td>6</td>\n",
       "      <td>11.1</td>\n",
       "      <td>255</td>\n",
       "    </tr>\n",
       "    <tr>\n",
       "      <th>4</th>\n",
       "      <td>3.5</td>\n",
       "      <td>6</td>\n",
       "      <td>10.6</td>\n",
       "      <td>244</td>\n",
       "    </tr>\n",
       "  </tbody>\n",
       "</table>\n",
       "</div>"
      ],
      "text/plain": [
       "   ENGINESIZE  CYLINDERS  FUELCONSUMPTION_COMB  CO2EMISSIONS\n",
       "0         2.0          4                   8.5           196\n",
       "1         2.4          4                   9.6           221\n",
       "2         1.5          4                   5.9           136\n",
       "3         3.5          6                  11.1           255\n",
       "4         3.5          6                  10.6           244"
      ]
     },
     "execution_count": 11,
     "metadata": {},
     "output_type": "execute_result"
    }
   ],
   "source": [
    "cdf = df[['ENGINESIZE', 'CYLINDERS', 'FUELCONSUMPTION_COMB', 'CO2EMISSIONS']]\n",
    "cdf.head()"
   ]
  },
  {
   "cell_type": "markdown",
   "metadata": {},
   "source": [
    "We can plot each of these features. "
   ]
  },
  {
   "cell_type": "code",
   "execution_count": 12,
   "metadata": {},
   "outputs": [
    {
     "data": {
      "image/png": "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\n",
      "text/plain": [
       "<Figure size 432x288 with 4 Axes>"
      ]
     },
     "metadata": {
      "needs_background": "light"
     },
     "output_type": "display_data"
    }
   ],
   "source": [
    "viz = cdf[['ENGINESIZE', 'CYLINDERS', 'FUELCONSUMPTION_COMB', 'CO2EMISSIONS']]\n",
    "viz.hist()\n",
    "plt.show()"
   ]
  },
  {
   "cell_type": "markdown",
   "metadata": {},
   "source": [
    "Lets plot each of this features vs. the Emissions to see relationship of each data."
   ]
  },
  {
   "cell_type": "code",
   "execution_count": 13,
   "metadata": {},
   "outputs": [
    {
     "data": {
      "image/png": "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\n",
      "text/plain": [
       "<Figure size 432x288 with 1 Axes>"
      ]
     },
     "metadata": {
      "needs_background": "light"
     },
     "output_type": "display_data"
    }
   ],
   "source": [
    "plt.scatter(cdf.FUELCONSUMPTION_COMB, cdf.CO2EMISSIONS, color='blue')\n",
    "plt.xlabel('FUELCONSUMPTION_COMB')\n",
    "plt.ylabel('CO2EMISSIONS')\n",
    "plt.show()"
   ]
  },
  {
   "cell_type": "code",
   "execution_count": 14,
   "metadata": {},
   "outputs": [
    {
     "data": {
      "image/png": "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\n",
      "text/plain": [
       "<Figure size 432x288 with 1 Axes>"
      ]
     },
     "metadata": {
      "needs_background": "light"
     },
     "output_type": "display_data"
    }
   ],
   "source": [
    "plt.scatter(cdf.ENGINESIZE, cdf.CO2EMISSIONS, color='blue')\n",
    "plt.xlabel('ENGINESIZE')\n",
    "plt.ylabel('CO2EMISSIONS')\n",
    "plt.show()"
   ]
  },
  {
   "cell_type": "code",
   "execution_count": 15,
   "metadata": {},
   "outputs": [
    {
     "data": {
      "image/png": "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\n",
      "text/plain": [
       "<Figure size 432x288 with 1 Axes>"
      ]
     },
     "metadata": {
      "needs_background": "light"
     },
     "output_type": "display_data"
    }
   ],
   "source": [
    "plt.scatter(cdf.CYLINDERS, cdf.CO2EMISSIONS, color='blue')\n",
    "plt.xlabel('CYLINDERS')\n",
    "plt.ylabel('CO2EMISSIONS')\n",
    "plt.show()"
   ]
  },
  {
   "cell_type": "markdown",
   "metadata": {},
   "source": [
    "### Train/Split Approach"
   ]
  },
  {
   "cell_type": "markdown",
   "metadata": {},
   "source": [
    "Create Train and Test dataset. We use Numpy random function and select %80 of the data for training and %20 of the data for test"
   ]
  },
  {
   "cell_type": "code",
   "execution_count": 16,
   "metadata": {},
   "outputs": [],
   "source": [
    "msk = np.random.rand(len(df)) < 0.8 #Returns a boolean array\n",
    "train = cdf[msk]\n",
    "test = cdf[~msk]"
   ]
  },
  {
   "cell_type": "markdown",
   "metadata": {},
   "source": [
    "__Train data Distrubution__"
   ]
  },
  {
   "cell_type": "code",
   "execution_count": 17,
   "metadata": {},
   "outputs": [
    {
     "data": {
<<<<<<< HEAD
      "image/png": "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\n",
=======
      "image/png": "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\n",
>>>>>>> 5a79362a986435acc70ff57f39f6dd37d695cef9
      "text/plain": [
       "<Figure size 432x288 with 1 Axes>"
      ]
     },
     "metadata": {
      "needs_background": "light"
     },
     "output_type": "display_data"
    }
   ],
   "source": [
    "plt.scatter(train.ENGINESIZE, train.CO2EMISSIONS, color='blue')\n",
    "plt.xlabel('ENGINESIZE')\n",
    "plt.ylabel('CO2EMISSIONS')\n",
    "plt.show()"
   ]
  },
  {
   "cell_type": "markdown",
   "metadata": {},
   "source": [
    "__Modelling__"
   ]
  },
  {
   "cell_type": "markdown",
   "metadata": {},
   "source": [
    "Using the sklearn package to model data."
   ]
  },
  {
   "cell_type": "code",
   "execution_count": 18,
   "metadata": {},
   "outputs": [
    {
     "data": {
      "text/plain": [
       "LinearRegression(copy_X=True, fit_intercept=True, n_jobs=None, normalize=False)"
      ]
     },
     "execution_count": 18,
     "metadata": {},
     "output_type": "execute_result"
    }
   ],
   "source": [
    "from sklearn import linear_model\n",
    "regr = linear_model.LinearRegression()\n",
    "train_x = np.asanyarray(train[['ENGINESIZE']])\n",
    "train_y = np.asanyarray(train[['CO2EMISSIONS']])\n",
    "regr.fit(train_x, train_y)"
   ]
  },
  {
   "cell_type": "markdown",
   "metadata": {},
   "source": [
    "Get the regression Parameters"
   ]
  },
  {
   "cell_type": "code",
   "execution_count": 19,
   "metadata": {},
   "outputs": [
    {
     "name": "stdout",
     "output_type": "stream",
     "text": [
<<<<<<< HEAD
      "Slope:  [[39.65266206]]\n",
      "Intercept:  [124.06626881]\n"
=======
      "Slope:  [[39.50889288]]\n",
      "Intercept:  [124.28083079]\n"
>>>>>>> 5a79362a986435acc70ff57f39f6dd37d695cef9
     ]
    }
   ],
   "source": [
    "print('Slope: ', regr.coef_)\n",
    "print('Intercept: ', regr.intercept_)"
   ]
  },
  {
   "cell_type": "markdown",
   "metadata": {},
   "source": [
    "Our Linear Regression Model is: \n",
    "$$\\hat y = 125.581 + 38.909 x $$ "
   ]
  },
  {
   "cell_type": "markdown",
   "metadata": {},
   "source": [
    "__Evaluation the Regression Metrics__"
   ]
  },
  {
   "cell_type": "markdown",
   "metadata": {},
   "source": [
    "Now we will see how the regression model fit to our data with see MAE, MSE and $R^2$ Score"
   ]
  },
  {
   "cell_type": "code",
   "execution_count": 20,
   "metadata": {
    "scrolled": true
   },
   "outputs": [
    {
     "name": "stdout",
     "output_type": "stream",
     "text": [
<<<<<<< HEAD
      "Mean Absolute Error: 25.34\n",
      "Residual sum of squares (MSE): 1054.80\n",
      "R2-score: 0.70\n"
=======
      "Mean Absolute Error: 21.84\n",
      "Residual sum of squares (MSE): 845.34\n",
      "R2-score: 0.75\n"
>>>>>>> 5a79362a986435acc70ff57f39f6dd37d695cef9
     ]
    }
   ],
   "source": [
    "from sklearn.metrics import r2_score\n",
    "\n",
    "test_x = np.asanyarray(test[['ENGINESIZE']])\n",
    "test_y = np.asanyarray(test[['CO2EMISSIONS']])\n",
    "test_y_hat = regr.predict(test_x)\n",
    "\n",
    "print('Mean Absolute Error: %.2f' %np.mean(np.absolute(test_y_hat - test_y)))\n",
    "print('Residual sum of squares (MSE): %.2f' % np.mean((test_y_hat - test_y) ** 2))\n",
    "print('R2-score: %.2f' % r2_score(test_y_hat, test_y))"
   ]
  },
  {
   "cell_type": "markdown",
   "metadata": {},
   "source": [
    "# Multiple Linear Regression"
   ]
  },
  {
   "cell_type": "markdown",
   "metadata": {},
   "source": [
    "Multiple Linear Regression uses more than one independent value for modelling the git line. This is more lealistic than linear regression if dependent value dependent more than one parameter. Generalized form quation of multiple linear regression is:\n",
    "$$\\hat y = \\theta_0 + \\theta_1 x_1 + \\theta_2 x_2 + ... + \\theta_n x_n $$\n",
    "We can wrote in matrix form:\n",
    "$$ \\hat y = \\theta^T X $$\n",
    "in this representation $\\theta^T$ is multiplier coefficients and $X$ is variable space. This Multiplication is a line equation, then: \n",
    "$$\\theta^T = [\\theta_0 ,\\theta_1 ,\\theta_2 ,\\theta_3 ... ] $$\n",
    "\n",
    "\n",
    "$$ X = \\begin{bmatrix} 1 \\\\ x_1 \\\\ x_2 \\\\ x_3 \\\\ ... \\end{bmatrix}$$"
   ]
  },
  {
<<<<<<< HEAD
   "cell_type": "markdown",
   "metadata": {},
   "source": [
    "For estimating theta we can use two of these methods. \n",
    "\n",
    "1. Ordinary LEast Squares\n",
    " * Linear Algebra Operations\n",
    " * Takes a long time for large datasets (10K + rows)\n",
    "2. An optimization Algorithm\n",
    " * Gradient Descent\n",
    " * Proper Approach if you have a very large dataset\n",
    "\n",
    "\n"
   ]
  },
  {
   "cell_type": "markdown",
   "metadata": {},
=======
   "cell_type": "code",
   "execution_count": 21,
   "metadata": {},
   "outputs": [
    {
     "name": "stdout",
     "output_type": "stream",
     "text": [
      "11.2 µs ± 107 ns per loop (mean ± std. dev. of 7 runs, 100000 loops each)\n"
     ]
    }
   ],
>>>>>>> 5a79362a986435acc70ff57f39f6dd37d695cef9
   "source": [
    "# Multiple Linear Regression LAB"
   ]
  },
  {
   "cell_type": "code",
   "execution_count": null,
   "metadata": {},
   "outputs": [],
   "source": []
  }
 ],
 "metadata": {
  "kernelspec": {
   "display_name": "Python 3",
   "language": "python",
   "name": "python3"
  },
  "language_info": {
   "codemirror_mode": {
    "name": "ipython",
    "version": 3
   },
   "file_extension": ".py",
   "mimetype": "text/x-python",
   "name": "python",
   "nbconvert_exporter": "python",
   "pygments_lexer": "ipython3",
   "version": "3.7.6"
  }
 },
 "nbformat": 4,
 "nbformat_minor": 4
}
